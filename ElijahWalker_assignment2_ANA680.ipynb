{
  "nbformat": 4,
  "nbformat_minor": 0,
  "metadata": {
    "colab": {
      "provenance": []
    },
    "kernelspec": {
      "name": "python3",
      "display_name": "Python 3"
    },
    "language_info": {
      "name": "python"
    }
  },
  "cells": [
    {
      "cell_type": "code",
      "execution_count": 2,
      "metadata": {
        "id": "qX8K6bllbLmX"
      },
      "outputs": [],
      "source": [
        "import pickle\n",
        "import numpy as np\n",
        "from sklearn.datasets import load_breast_cancer\n",
        "from sklearn.model_selection import train_test_split\n",
        "from sklearn.naive_bayes import GaussianNB\n",
        "import pandas as pd\n",
        "from sklearn.metrics import accuracy_score, confusion_matrix\n"
      ]
    },
    {
      "cell_type": "code",
      "source": [],
      "metadata": {
        "id": "P9Wde4KabOZP"
      },
      "execution_count": 2,
      "outputs": []
    },
    {
      "cell_type": "code",
      "source": [
        "# df = pd.read_csv('/content/breast-cancer-wisconsin-data1.csv')\n",
        "\n",
        "# Alternative read-in (for those who dont have data downloaded locally)\n",
        "\n",
        "url = \"https://archive.ics.uci.edu/ml/machine-learning-databases/breast-cancer-wisconsin/breast-cancer-wisconsin.data\"\n",
        "columns = ['id', 'clump_thickness', 'uniform_cell_size', 'uniform_cell_shape',\n",
        "           'marginal_adhesion', 'single_epithelial_size', 'bare_nuclei',\n",
        "           'bland_chromatin', 'normal_nucleoli', 'mitoses', 'class']\n",
        "\n",
        "df = pd.read_csv(url, names=columns)"
      ],
      "metadata": {
        "id": "fVJqc2okTJqK"
      },
      "execution_count": 3,
      "outputs": []
    },
    {
      "cell_type": "code",
      "source": [
        "df['bare_nuclei'] = pd.to_numeric(df['bare_nuclei'], errors='coerce')"
      ],
      "metadata": {
        "id": "65__KDYfcKjV"
      },
      "execution_count": 4,
      "outputs": []
    },
    {
      "cell_type": "code",
      "source": [
        "X = df[['clump_thickness', 'uniform_cell_size', 'uniform_cell_shape', 'bland_chromatin']] # Highest correlated variables to class\n",
        "y = df['class']"
      ],
      "metadata": {
        "id": "Q-mPn-g5cP_X"
      },
      "execution_count": 5,
      "outputs": []
    },
    {
      "cell_type": "code",
      "source": [
        "X_train, X_test, y_train, y_test = train_test_split(X, y, test_size=0.25, random_state=31)"
      ],
      "metadata": {
        "id": "lBPMWtLfcm6c"
      },
      "execution_count": 6,
      "outputs": []
    },
    {
      "cell_type": "code",
      "source": [],
      "metadata": {
        "id": "h-7r2oS1cnlX"
      },
      "execution_count": null,
      "outputs": []
    },
    {
      "cell_type": "code",
      "source": [
        "nb_model = GaussianNB()\n",
        "nb_model.fit(X_train, y_train)\n",
        "nb_y_pred = nb_model.predict(X_test)\n",
        "\n",
        "print('Naive Bayes')\n",
        "print(f'Accuracy: {accuracy_score(y_test, nb_y_pred)}')\n",
        "print(f'Confusion Matrix:\\n {confusion_matrix(y_test, nb_y_pred)}')"
      ],
      "metadata": {
        "colab": {
          "base_uri": "https://localhost:8080/"
        },
        "id": "yerQtTnOsdu5",
        "outputId": "e3c2bf29-9d5c-41a9-f6a2-86a7d0a26602"
      },
      "execution_count": null,
      "outputs": [
        {
          "output_type": "stream",
          "name": "stdout",
          "text": [
            "Naive Bayes\n",
            "Accuracy: 0.9371428571428572\n",
            "Confusion Matrix:\n",
            " [[103  10]\n",
            " [  1  61]]\n"
          ]
        }
      ]
    },
    {
      "cell_type": "code",
      "source": [
        "with open('nb_model.pkl', 'wb') as file:\n",
        "    pickle.dump(nb_model, file)"
      ],
      "metadata": {
        "id": "zC_NOyr4cs5Y"
      },
      "execution_count": null,
      "outputs": []
    },
    {
      "cell_type": "code",
      "source": [],
      "metadata": {
        "id": "bk2Dk7X-c_eW"
      },
      "execution_count": null,
      "outputs": []
    }
  ]
}